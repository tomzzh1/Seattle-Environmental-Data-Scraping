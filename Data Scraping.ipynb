{
 "cells": [
  {
   "cell_type": "markdown",
   "metadata": {},
   "source": [
    "### The following program is intended to scrape gas station Data within the great seattle area.\n",
    "\n",
    "#### <font color = blue>There are four packages involved.</font>\n",
    "\n",
    "##### Use this [The Gas Station link](https://www.autoblog.com/seattle-gas-prices/)"
   ]
  },
  {
   "cell_type": "code",
   "execution_count": 1,
   "metadata": {},
   "outputs": [],
   "source": [
    "import pandas as pd\n",
    "import numpy as np\n",
    "from requests import get\n",
    "from bs4 import BeautifulSoup"
   ]
  },
  {
   "cell_type": "markdown",
   "metadata": {},
   "source": [
    "### First, we create the Seattle Dataframe"
   ]
  },
  {
   "cell_type": "code",
   "execution_count": 2,
   "metadata": {},
   "outputs": [
    {
     "data": {
      "text/html": [
       "<div>\n",
       "<style scoped>\n",
       "    .dataframe tbody tr th:only-of-type {\n",
       "        vertical-align: middle;\n",
       "    }\n",
       "\n",
       "    .dataframe tbody tr th {\n",
       "        vertical-align: top;\n",
       "    }\n",
       "\n",
       "    .dataframe thead th {\n",
       "        text-align: right;\n",
       "    }\n",
       "</style>\n",
       "<table border=\"1\" class=\"dataframe\">\n",
       "  <thead>\n",
       "    <tr style=\"text-align: right;\">\n",
       "      <th></th>\n",
       "      <th>Brand</th>\n",
       "      <th>Street address</th>\n",
       "      <th>City</th>\n",
       "      <th>ZIP</th>\n",
       "      <th>GAS PRICE</th>\n",
       "    </tr>\n",
       "  </thead>\n",
       "  <tbody>\n",
       "  </tbody>\n",
       "</table>\n",
       "</div>"
      ],
      "text/plain": [
       "Empty DataFrame\n",
       "Columns: [Brand, Street address, City, ZIP, GAS PRICE]\n",
       "Index: []"
      ]
     },
     "execution_count": 2,
     "metadata": {},
     "output_type": "execute_result"
    }
   ],
   "source": [
    "Seattle = pd.DataFrame(columns=['Brand', 'Street address', 'City', 'ZIP', 'GAS PRICE'])\n",
    "Seattle"
   ]
  },
  {
   "cell_type": "code",
   "execution_count": 3,
   "metadata": {},
   "outputs": [],
   "source": [
    "for j in list(range(1,13)):\n",
    "    url = \"https://www.autoblog.com/seattle-gas-prices/pg-\"+ str(j)+\"/\"\n",
    "    response = get(url)\n",
    "    html_soup = BeautifulSoup(response.text, 'html.parser')\n",
    "    gas_containers = html_soup.find_all('ul', class_ = 'details')\n",
    "    \n",
    "    for i in gas_containers:\n",
    "        info = i.find_all('li') \n",
    "\n",
    "\n",
    "        to_append = [\n",
    "            info[0].h4.text, info[0].address.text[0:-17], info[0].address.text[-17:-8],\n",
    "            info[0].address.text[-5:], info[2].data.text[1:]\n",
    "        ]\n",
    "\n",
    "        a_series = pd.Series(to_append, index=Seattle.columns)\n",
    "        Seattle = Seattle.append(a_series, ignore_index=True)\n",
    "        \n",
    "\n"
   ]
  },
  {
   "cell_type": "code",
   "execution_count": 4,
   "metadata": {},
   "outputs": [
    {
     "data": {
      "text/html": [
       "<div>\n",
       "<style scoped>\n",
       "    .dataframe tbody tr th:only-of-type {\n",
       "        vertical-align: middle;\n",
       "    }\n",
       "\n",
       "    .dataframe tbody tr th {\n",
       "        vertical-align: top;\n",
       "    }\n",
       "\n",
       "    .dataframe thead th {\n",
       "        text-align: right;\n",
       "    }\n",
       "</style>\n",
       "<table border=\"1\" class=\"dataframe\">\n",
       "  <thead>\n",
       "    <tr style=\"text-align: right;\">\n",
       "      <th></th>\n",
       "      <th>Brand</th>\n",
       "      <th>Street address</th>\n",
       "      <th>City</th>\n",
       "      <th>ZIP</th>\n",
       "      <th>GAS PRICE</th>\n",
       "    </tr>\n",
       "  </thead>\n",
       "  <tbody>\n",
       "    <tr>\n",
       "      <th>0</th>\n",
       "      <td>Chevron #204996</td>\n",
       "      <td>20010 Ballinger Way Ne</td>\n",
       "      <td>Seattle</td>\n",
       "      <td>98155</td>\n",
       "      <td>3.39</td>\n",
       "    </tr>\n",
       "    <tr>\n",
       "      <th>1</th>\n",
       "      <td>Chevron</td>\n",
       "      <td>6600 Martin Luther King Jr Way S</td>\n",
       "      <td>Seattle</td>\n",
       "      <td>98118</td>\n",
       "      <td>3.39</td>\n",
       "    </tr>\n",
       "    <tr>\n",
       "      <th>2</th>\n",
       "      <td>Arco</td>\n",
       "      <td>1901 Ne 205th St</td>\n",
       "      <td>Seattle</td>\n",
       "      <td>98155</td>\n",
       "      <td>2.93</td>\n",
       "    </tr>\n",
       "    <tr>\n",
       "      <th>3</th>\n",
       "      <td>Union 76</td>\n",
       "      <td>914 James St</td>\n",
       "      <td>Seattle</td>\n",
       "      <td>98104</td>\n",
       "      <td>3.74</td>\n",
       "    </tr>\n",
       "    <tr>\n",
       "      <th>4</th>\n",
       "      <td>Shell</td>\n",
       "      <td>511 S Dearborn St</td>\n",
       "      <td>Seattle</td>\n",
       "      <td>98134</td>\n",
       "      <td>3.59</td>\n",
       "    </tr>\n",
       "  </tbody>\n",
       "</table>\n",
       "</div>"
      ],
      "text/plain": [
       "             Brand                    Street address       City    ZIP  \\\n",
       "0  Chevron #204996            20010 Ballinger Way Ne   Seattle   98155   \n",
       "1          Chevron  6600 Martin Luther King Jr Way S   Seattle   98118   \n",
       "2             Arco                  1901 Ne 205th St   Seattle   98155   \n",
       "3         Union 76                      914 James St   Seattle   98104   \n",
       "4            Shell                 511 S Dearborn St   Seattle   98134   \n",
       "\n",
       "  GAS PRICE  \n",
       "0      3.39  \n",
       "1      3.39  \n",
       "2      2.93  \n",
       "3      3.74  \n",
       "4      3.59  "
      ]
     },
     "execution_count": 4,
     "metadata": {},
     "output_type": "execute_result"
    }
   ],
   "source": [
    "Seattle.head()"
   ]
  },
  {
   "cell_type": "markdown",
   "metadata": {},
   "source": [
    "### Then next dataframe is the lynnwood Dataframe"
   ]
  },
  {
   "cell_type": "code",
   "execution_count": 5,
   "metadata": {},
   "outputs": [
    {
     "data": {
      "text/html": [
       "<div>\n",
       "<style scoped>\n",
       "    .dataframe tbody tr th:only-of-type {\n",
       "        vertical-align: middle;\n",
       "    }\n",
       "\n",
       "    .dataframe tbody tr th {\n",
       "        vertical-align: top;\n",
       "    }\n",
       "\n",
       "    .dataframe thead th {\n",
       "        text-align: right;\n",
       "    }\n",
       "</style>\n",
       "<table border=\"1\" class=\"dataframe\">\n",
       "  <thead>\n",
       "    <tr style=\"text-align: right;\">\n",
       "      <th></th>\n",
       "      <th>Brand</th>\n",
       "      <th>Street address</th>\n",
       "      <th>City</th>\n",
       "      <th>ZIP</th>\n",
       "      <th>GAS PRICE</th>\n",
       "    </tr>\n",
       "  </thead>\n",
       "  <tbody>\n",
       "  </tbody>\n",
       "</table>\n",
       "</div>"
      ],
      "text/plain": [
       "Empty DataFrame\n",
       "Columns: [Brand, Street address, City, ZIP, GAS PRICE]\n",
       "Index: []"
      ]
     },
     "execution_count": 5,
     "metadata": {},
     "output_type": "execute_result"
    }
   ],
   "source": [
    "lynnwood = pd.DataFrame(columns=['Brand', 'Street address', 'City', 'ZIP', 'GAS PRICE'])\n",
    "lynnwood"
   ]
  },
  {
   "cell_type": "code",
   "execution_count": 6,
   "metadata": {},
   "outputs": [],
   "source": [
    "for j in list(range(1,13)):\n",
    "    url = \"https://www.autoblog.com/lynnwood-wa-gas-prices/pg-\"+ str(j)+\"/\"\n",
    "    response = get(url)\n",
    "    html_soup = BeautifulSoup(response.text, 'html.parser')\n",
    "    gas_containers = html_soup.find_all('ul', class_ = 'details')\n",
    "    \n",
    "    for i in gas_containers:\n",
    "        info = i.find_all('li') \n",
    "\n",
    "\n",
    "        to_append = [\n",
    "            info[0].h4.text, info[0].address.text[0:-17], info[0].address.text[-17:-8],\n",
    "            info[0].address.text[-5:], info[2].data.text[1:]\n",
    "        ]\n",
    "\n",
    "        a_series = pd.Series(to_append, index=lynnwood.columns)\n",
    "        lynnwood = lynnwood.append(a_series, ignore_index=True)\n",
    "        \n",
    "\n"
   ]
  },
  {
   "cell_type": "code",
   "execution_count": 7,
   "metadata": {},
   "outputs": [
    {
     "data": {
      "text/html": [
       "<div>\n",
       "<style scoped>\n",
       "    .dataframe tbody tr th:only-of-type {\n",
       "        vertical-align: middle;\n",
       "    }\n",
       "\n",
       "    .dataframe tbody tr th {\n",
       "        vertical-align: top;\n",
       "    }\n",
       "\n",
       "    .dataframe thead th {\n",
       "        text-align: right;\n",
       "    }\n",
       "</style>\n",
       "<table border=\"1\" class=\"dataframe\">\n",
       "  <thead>\n",
       "    <tr style=\"text-align: right;\">\n",
       "      <th></th>\n",
       "      <th>Brand</th>\n",
       "      <th>Street address</th>\n",
       "      <th>City</th>\n",
       "      <th>ZIP</th>\n",
       "      <th>GAS PRICE</th>\n",
       "    </tr>\n",
       "  </thead>\n",
       "  <tbody>\n",
       "    <tr>\n",
       "      <th>0</th>\n",
       "      <td>Arco</td>\n",
       "      <td>4806 196th St Sw</td>\n",
       "      <td>Lynnwood</td>\n",
       "      <td>98036</td>\n",
       "      <td>2.99</td>\n",
       "    </tr>\n",
       "    <tr>\n",
       "      <th>1</th>\n",
       "      <td>Fred Meyer Fuel Center #9180 (discount Available)</td>\n",
       "      <td>4616 196th St Sw</td>\n",
       "      <td>Lynnwood</td>\n",
       "      <td>98036</td>\n",
       "      <td>2.96</td>\n",
       "    </tr>\n",
       "    <tr>\n",
       "      <th>2</th>\n",
       "      <td>Union 76</td>\n",
       "      <td>19907 44th Ave W</td>\n",
       "      <td>Lynnwood</td>\n",
       "      <td>98036</td>\n",
       "      <td>2.99</td>\n",
       "    </tr>\n",
       "    <tr>\n",
       "      <th>3</th>\n",
       "      <td>Shell</td>\n",
       "      <td>19930 44th Ave W</td>\n",
       "      <td>Lynnwood</td>\n",
       "      <td>98036</td>\n",
       "      <td>3.29</td>\n",
       "    </tr>\n",
       "    <tr>\n",
       "      <th>4</th>\n",
       "      <td>Costco #0115</td>\n",
       "      <td>19105 Highway 99</td>\n",
       "      <td>Lynnwood</td>\n",
       "      <td>98036</td>\n",
       "      <td>2.79</td>\n",
       "    </tr>\n",
       "  </tbody>\n",
       "</table>\n",
       "</div>"
      ],
      "text/plain": [
       "                                               Brand     Street address  \\\n",
       "0                                               Arco  4806 196th St Sw    \n",
       "1  Fred Meyer Fuel Center #9180 (discount Available)  4616 196th St Sw    \n",
       "2                                           Union 76  19907 44th Ave W    \n",
       "3                                              Shell  19930 44th Ave W    \n",
       "4                                       Costco #0115  19105 Highway 99    \n",
       "\n",
       "        City    ZIP GAS PRICE  \n",
       "0  Lynnwood   98036      2.99  \n",
       "1  Lynnwood   98036      2.96  \n",
       "2  Lynnwood   98036      2.99  \n",
       "3  Lynnwood   98036      3.29  \n",
       "4  Lynnwood   98036      2.79  "
      ]
     },
     "execution_count": 7,
     "metadata": {},
     "output_type": "execute_result"
    }
   ],
   "source": [
    "lynnwood.head()"
   ]
  },
  {
   "cell_type": "markdown",
   "metadata": {},
   "source": [
    "### Then next dataframe is the mountlake terrace Dataframe"
   ]
  },
  {
   "cell_type": "code",
   "execution_count": 8,
   "metadata": {},
   "outputs": [
    {
     "data": {
      "text/html": [
       "<div>\n",
       "<style scoped>\n",
       "    .dataframe tbody tr th:only-of-type {\n",
       "        vertical-align: middle;\n",
       "    }\n",
       "\n",
       "    .dataframe tbody tr th {\n",
       "        vertical-align: top;\n",
       "    }\n",
       "\n",
       "    .dataframe thead th {\n",
       "        text-align: right;\n",
       "    }\n",
       "</style>\n",
       "<table border=\"1\" class=\"dataframe\">\n",
       "  <thead>\n",
       "    <tr style=\"text-align: right;\">\n",
       "      <th></th>\n",
       "      <th>Brand</th>\n",
       "      <th>Street address</th>\n",
       "      <th>City</th>\n",
       "      <th>ZIP</th>\n",
       "      <th>GAS PRICE</th>\n",
       "    </tr>\n",
       "  </thead>\n",
       "  <tbody>\n",
       "  </tbody>\n",
       "</table>\n",
       "</div>"
      ],
      "text/plain": [
       "Empty DataFrame\n",
       "Columns: [Brand, Street address, City, ZIP, GAS PRICE]\n",
       "Index: []"
      ]
     },
     "execution_count": 8,
     "metadata": {},
     "output_type": "execute_result"
    }
   ],
   "source": [
    "mountlaketerrace = pd.DataFrame(columns=['Brand', 'Street address', 'City', 'ZIP', 'GAS PRICE'])\n",
    "mountlaketerrace"
   ]
  },
  {
   "cell_type": "code",
   "execution_count": 9,
   "metadata": {},
   "outputs": [],
   "source": [
    "for j in list(range(1,12)):\n",
    "    \n",
    "    url = \"https://www.autoblog.com/mountlake%20terrace%20wa-gas-prices/pg-\"+ str(j)+\"/\"\n",
    "\n",
    "    response = get(url)\n",
    "    html_soup = BeautifulSoup(response.text, 'html.parser')\n",
    "    gas_containers = html_soup.find_all('ul', class_ = 'details')\n",
    "    \n",
    "    for i in gas_containers:\n",
    "        info = i.find_all('li') \n",
    "\n",
    "\n",
    "        to_append = [\n",
    "            info[0].h4.text, info[0].address.text[0:-17], info[0].address.text[-17:-8],\n",
    "            info[0].address.text[-5:], info[2].data.text[1:]\n",
    "        ]\n",
    "\n",
    "        a_series = pd.Series(to_append, index= mountlaketerrace.columns)\n",
    "        mountlaketerrace = mountlaketerrace.append(a_series, ignore_index=True)\n",
    "        "
   ]
  },
  {
   "cell_type": "code",
   "execution_count": 10,
   "metadata": {},
   "outputs": [
    {
     "data": {
      "text/html": [
       "<div>\n",
       "<style scoped>\n",
       "    .dataframe tbody tr th:only-of-type {\n",
       "        vertical-align: middle;\n",
       "    }\n",
       "\n",
       "    .dataframe tbody tr th {\n",
       "        vertical-align: top;\n",
       "    }\n",
       "\n",
       "    .dataframe thead th {\n",
       "        text-align: right;\n",
       "    }\n",
       "</style>\n",
       "<table border=\"1\" class=\"dataframe\">\n",
       "  <thead>\n",
       "    <tr style=\"text-align: right;\">\n",
       "      <th></th>\n",
       "      <th>Brand</th>\n",
       "      <th>Street address</th>\n",
       "      <th>City</th>\n",
       "      <th>ZIP</th>\n",
       "      <th>GAS PRICE</th>\n",
       "    </tr>\n",
       "  </thead>\n",
       "  <tbody>\n",
       "    <tr>\n",
       "      <th>0</th>\n",
       "      <td>76</td>\n",
       "      <td>23206 56th Ave W Mountlake</td>\n",
       "      <td>Terrace</td>\n",
       "      <td>98043</td>\n",
       "      <td>3.61</td>\n",
       "    </tr>\n",
       "    <tr>\n",
       "      <th>1</th>\n",
       "      <td>Chevron</td>\n",
       "      <td>22801 44th Ave W Mountlake</td>\n",
       "      <td>Terrace</td>\n",
       "      <td>98043</td>\n",
       "      <td>3.29</td>\n",
       "    </tr>\n",
       "    <tr>\n",
       "      <th>2</th>\n",
       "      <td>Chevron</td>\n",
       "      <td>20330 15th Ave Ne</td>\n",
       "      <td>Seattle</td>\n",
       "      <td>98155</td>\n",
       "      <td>3.39</td>\n",
       "    </tr>\n",
       "    <tr>\n",
       "      <th>3</th>\n",
       "      <td>Chevron</td>\n",
       "      <td>10805 Pacific Hwy S</td>\n",
       "      <td>Seattle</td>\n",
       "      <td>98168</td>\n",
       "      <td>3.59</td>\n",
       "    </tr>\n",
       "    <tr>\n",
       "      <th>4</th>\n",
       "      <td>My Goods Market #5927</td>\n",
       "      <td>22625 Highway 99</td>\n",
       "      <td>Edmonds</td>\n",
       "      <td>98026</td>\n",
       "      <td>3.29</td>\n",
       "    </tr>\n",
       "  </tbody>\n",
       "</table>\n",
       "</div>"
      ],
      "text/plain": [
       "                   Brand              Street address       City    ZIP  \\\n",
       "0                     76  23206 56th Ave W Mountlake   Terrace   98043   \n",
       "1                Chevron  22801 44th Ave W Mountlake   Terrace   98043   \n",
       "2                Chevron           20330 15th Ave Ne   Seattle   98155   \n",
       "3                Chevron         10805 Pacific Hwy S   Seattle   98168   \n",
       "4  My Goods Market #5927            22625 Highway 99   Edmonds   98026   \n",
       "\n",
       "  GAS PRICE  \n",
       "0      3.61  \n",
       "1      3.29  \n",
       "2      3.39  \n",
       "3      3.59  \n",
       "4      3.29  "
      ]
     },
     "execution_count": 10,
     "metadata": {},
     "output_type": "execute_result"
    }
   ],
   "source": [
    "mountlaketerrace.head()"
   ]
  },
  {
   "cell_type": "markdown",
   "metadata": {},
   "source": [
    "### Then next dataframe is the edmonds Dataframe"
   ]
  },
  {
   "cell_type": "code",
   "execution_count": 11,
   "metadata": {},
   "outputs": [
    {
     "data": {
      "text/html": [
       "<div>\n",
       "<style scoped>\n",
       "    .dataframe tbody tr th:only-of-type {\n",
       "        vertical-align: middle;\n",
       "    }\n",
       "\n",
       "    .dataframe tbody tr th {\n",
       "        vertical-align: top;\n",
       "    }\n",
       "\n",
       "    .dataframe thead th {\n",
       "        text-align: right;\n",
       "    }\n",
       "</style>\n",
       "<table border=\"1\" class=\"dataframe\">\n",
       "  <thead>\n",
       "    <tr style=\"text-align: right;\">\n",
       "      <th></th>\n",
       "      <th>Brand</th>\n",
       "      <th>Street address</th>\n",
       "      <th>City</th>\n",
       "      <th>ZIP</th>\n",
       "      <th>GAS PRICE</th>\n",
       "    </tr>\n",
       "  </thead>\n",
       "  <tbody>\n",
       "  </tbody>\n",
       "</table>\n",
       "</div>"
      ],
      "text/plain": [
       "Empty DataFrame\n",
       "Columns: [Brand, Street address, City, ZIP, GAS PRICE]\n",
       "Index: []"
      ]
     },
     "execution_count": 11,
     "metadata": {},
     "output_type": "execute_result"
    }
   ],
   "source": [
    "edmonds = pd.DataFrame(columns=['Brand', 'Street address', 'City', 'ZIP', 'GAS PRICE'])\n",
    "edmonds"
   ]
  },
  {
   "cell_type": "code",
   "execution_count": 12,
   "metadata": {},
   "outputs": [],
   "source": [
    "for j in list(range(1,12)):    \n",
    "    url = \"https://www.autoblog.com/edmonds-wa-gas-prices/pg-\"+ str(j)+\"/\"\n",
    "    response = get(url)\n",
    "    html_soup = BeautifulSoup(response.text, 'html.parser')\n",
    "    gas_containers = html_soup.find_all('ul', class_ = 'details')\n",
    "    \n",
    "    for i in gas_containers:\n",
    "        info = i.find_all('li') \n",
    "        to_append = [\n",
    "            info[0].h4.text, info[0].address.text[0:-17], info[0].address.text[-17:-8],\n",
    "            info[0].address.text[-5:], info[2].data.text[1:]\n",
    "        ]\n",
    "\n",
    "        a_series = pd.Series(to_append, index= edmonds.columns)\n",
    "        edmonds = edmonds.append(a_series, ignore_index=True)\n",
    "        "
   ]
  },
  {
   "cell_type": "code",
   "execution_count": 13,
   "metadata": {},
   "outputs": [
    {
     "data": {
      "text/html": [
       "<div>\n",
       "<style scoped>\n",
       "    .dataframe tbody tr th:only-of-type {\n",
       "        vertical-align: middle;\n",
       "    }\n",
       "\n",
       "    .dataframe tbody tr th {\n",
       "        vertical-align: top;\n",
       "    }\n",
       "\n",
       "    .dataframe thead th {\n",
       "        text-align: right;\n",
       "    }\n",
       "</style>\n",
       "<table border=\"1\" class=\"dataframe\">\n",
       "  <thead>\n",
       "    <tr style=\"text-align: right;\">\n",
       "      <th></th>\n",
       "      <th>Brand</th>\n",
       "      <th>Street address</th>\n",
       "      <th>City</th>\n",
       "      <th>ZIP</th>\n",
       "      <th>GAS PRICE</th>\n",
       "    </tr>\n",
       "  </thead>\n",
       "  <tbody>\n",
       "    <tr>\n",
       "      <th>0</th>\n",
       "      <td>Shell</td>\n",
       "      <td>1011 Puget Dr</td>\n",
       "      <td>Edmonds</td>\n",
       "      <td>98020</td>\n",
       "      <td>3.39</td>\n",
       "    </tr>\n",
       "    <tr>\n",
       "      <th>1</th>\n",
       "      <td>Shell</td>\n",
       "      <td>660 Edmonds Way</td>\n",
       "      <td>Edmonds</td>\n",
       "      <td>98020</td>\n",
       "      <td>3.39</td>\n",
       "    </tr>\n",
       "    <tr>\n",
       "      <th>2</th>\n",
       "      <td>Union 76</td>\n",
       "      <td>9715 Edmonds Way</td>\n",
       "      <td>Edmonds</td>\n",
       "      <td>98020</td>\n",
       "      <td>3.09</td>\n",
       "    </tr>\n",
       "    <tr>\n",
       "      <th>3</th>\n",
       "      <td>Chevron</td>\n",
       "      <td>10805 Pacific Hwy S</td>\n",
       "      <td>Seattle</td>\n",
       "      <td>98168</td>\n",
       "      <td>3.59</td>\n",
       "    </tr>\n",
       "    <tr>\n",
       "      <th>4</th>\n",
       "      <td>My Goods Market #5927</td>\n",
       "      <td>22625 Highway 99</td>\n",
       "      <td>Edmonds</td>\n",
       "      <td>98026</td>\n",
       "      <td>3.29</td>\n",
       "    </tr>\n",
       "  </tbody>\n",
       "</table>\n",
       "</div>"
      ],
      "text/plain": [
       "                   Brand       Street address       City    ZIP GAS PRICE\n",
       "0                  Shell        1011 Puget Dr   Edmonds   98020      3.39\n",
       "1                  Shell      660 Edmonds Way   Edmonds   98020      3.39\n",
       "2               Union 76     9715 Edmonds Way   Edmonds   98020      3.09\n",
       "3                Chevron  10805 Pacific Hwy S   Seattle   98168      3.59\n",
       "4  My Goods Market #5927     22625 Highway 99   Edmonds   98026      3.29"
      ]
     },
     "execution_count": 13,
     "metadata": {},
     "output_type": "execute_result"
    }
   ],
   "source": [
    "edmonds.head()"
   ]
  },
  {
   "cell_type": "code",
   "execution_count": 14,
   "metadata": {},
   "outputs": [],
   "source": [
    "data = pd.concat([Seattle, mountlaketerrace, lynnwood,edmonds])\n",
    "data.drop_duplicates()\n",
    "data.to_csv('output.csv')"
   ]
  }
 ],
 "metadata": {
  "kernelspec": {
   "display_name": "Python 3",
   "language": "python",
   "name": "python3"
  },
  "language_info": {
   "codemirror_mode": {
    "name": "ipython",
    "version": 3
   },
   "file_extension": ".py",
   "mimetype": "text/x-python",
   "name": "python",
   "nbconvert_exporter": "python",
   "pygments_lexer": "ipython3",
   "version": "3.8.1"
  }
 },
 "nbformat": 4,
 "nbformat_minor": 4
}
