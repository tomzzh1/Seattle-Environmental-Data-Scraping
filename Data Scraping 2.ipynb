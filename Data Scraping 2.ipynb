{
 "cells": [
  {
   "cell_type": "code",
   "execution_count": 1,
   "metadata": {},
   "outputs": [],
   "source": [
    "from selenium import webdriver\n",
    "from selenium.webdriver.common.keys import Keys\n",
    "import pandas as pd"
   ]
  },
  {
   "cell_type": "code",
   "execution_count": 2,
   "metadata": {},
   "outputs": [],
   "source": [
    "df = pd.DataFrame(columns=[\n",
    "    'address','Owner', 'Zoning', 'Lot Size', 'Appraised Land Value',\n",
    "    'Appraised Impv Value', 'Appraised Total', 'Year Built', 'Date Last Sold','Sales Price'\n",
    "])\n",
    "\n",
    "df\n",
    "\n",
    "Address = pd.read_csv('output.csv')\n",
    "Address = Address['Street address']"
   ]
  },
  {
   "cell_type": "code",
   "execution_count": 3,
   "metadata": {},
   "outputs": [
    {
     "data": {
      "text/plain": [
       "0                20010 Ballinger Way Ne\n",
       "1      6600 Martin Luther King Jr Way S\n",
       "2                      1901 Ne 205th St\n",
       "3                          914 James St\n",
       "4                     511 S Dearborn St\n",
       "                     ...               \n",
       "435                19320 Bothell Hwy Se\n",
       "436             8325 Mukilteo Speedway \n",
       "437                       950 N 85th St\n",
       "438                18725 Bothell Way Ne\n",
       "439                18015 Bothell Way Ne\n",
       "Name: Street address, Length: 440, dtype: object"
      ]
     },
     "execution_count": 3,
     "metadata": {},
     "output_type": "execute_result"
    }
   ],
   "source": [
    "Address"
   ]
  },
  {
   "cell_type": "code",
   "execution_count": null,
   "metadata": {},
   "outputs": [],
   "source": []
  },
  {
   "cell_type": "code",
   "execution_count": 4,
   "metadata": {},
   "outputs": [],
   "source": [
    "driver = webdriver.Chrome(executable_path=r'C:\\Users\\Owner\\Desktop\\Career\\Coltura\\chromedriver.exe')\n",
    "driver.get('https://blue.kingcounty.com/Assessor/eRealProperty/default.aspx')\n",
    "driver.find_element_by_id('cphContent_checkbox_acknowledge').click()\n",
    "\n",
    "\n",
    "for i in Address:\n",
    "    e = driver.find_element_by_id('cphContent_txtAddress')\n",
    "    e.clear()\n",
    "    e.send_keys(i)\n",
    "    e.send_keys(Keys.ENTER)\n",
    "    \n",
    "    driver.implicitly_wait(3)\n",
    "    \n",
    "    try:\n",
    "        driver.find_element_by_id('cphContent_LinkButtonDetail')\n",
    "    except:\n",
    "        \n",
    "        continue\n",
    "    \n",
    "    try:\n",
    "        lotsize = driver.find_elements_by_class_name(\"GridViewAlternatingRowStyle\")[4].text.split(' ')[2]\n",
    "    except:\n",
    "        lotsize = 0\n",
    "        print('No lot Size')\n",
    "    \n",
    "    \n",
    "    python_button = driver.find_element_by_id('cphContent_LinkButtonDetail')\n",
    "    python_button.click()\n",
    "    \n",
    "    driver.implicitly_wait(1)\n",
    "    \n",
    "    Name = driver.find_elements_by_class_name(\"GridViewAlternatingRowStyle\")[0].text[5:]\n",
    "    Zoning = driver.find_elements_by_class_name(\"GridViewAlternatingRowStyle\")[8].text[7:]\n",
    "    \n",
    "    temp = driver.find_elements_by_class_name(\"GridViewRowStyle\")\n",
    "    \n",
    "    for idx, val in enumerate(temp):\n",
    "        if '2019 2020' in val.text:\n",
    "            AppraisedLandValue = val.text.split(' ')[4]\n",
    "            AppraisedImpvValue = val.text.split(' ')[5]\n",
    "            AppraisedTotal = val.text.split(' ')[6]    \n",
    "    \n",
    "    \n",
    "    \n",
    "    for idx, val in enumerate(temp):\n",
    "        if 'Year Built' in val.text:\n",
    "            Yearbuilt = val.text.split(' ')[-1]\n",
    "                \n",
    "    \n",
    "    \n",
    "    try:\n",
    "        check = driver.find_element_by_id(\"cphContent_GridViewSales_HyperLinkSale_0\").text\n",
    "        DatelastSold = driver.find_element_by_id('cphContent_GridViewSales_lblSaleDate_0').text\n",
    "        for idx, val in enumerate(temp):\n",
    "            if check in val.text:\n",
    "                SalesPrice = val.text.split(' ')[3]\n",
    "    except:\n",
    "        SalesPrice = 0\n",
    "        DatelastSold = 'No Sales History'\n",
    "        print('No Sales History')\n",
    "    \n",
    "    \n",
    "\n",
    "    \n",
    "    python_button = driver.find_element_by_id('cphContent_lkNewSearch')\n",
    "    python_button.click()\n",
    "    \n",
    "    \n",
    "    to_append = [i, Name, Zoning, lotsize, AppraisedLandValue,AppraisedImpvValue,AppraisedTotal,Yearbuilt, DatelastSold, SalesPrice]\n",
    "    \n",
    "    a_series = pd.Series(to_append, index=df.columns)\n",
    "    df = df.append(a_series, ignore_index=True)\n",
    "\n",
    "    \n",
    "driver.quit()"
   ]
  },
  {
   "cell_type": "code",
   "execution_count": null,
   "metadata": {},
   "outputs": [],
   "source": [
    "df.head()"
   ]
  },
  {
   "cell_type": "code",
   "execution_count": null,
   "metadata": {},
   "outputs": [],
   "source": [
    "df = df[[\n",
    "    'Address','Owner', 'Zoning', 'Lot Size', 'Appraised Land Value',\n",
    "    'Appraised Impv Value', 'Appraised Total', 'Year Built', 'Date Last Sold','Sales Price'\n",
    "]]"
   ]
  },
  {
   "cell_type": "code",
   "execution_count": null,
   "metadata": {},
   "outputs": [],
   "source": [
    "df.to_csv(\"output2.csv\", index = False)"
   ]
  }
 ],
 "metadata": {
  "kernelspec": {
   "display_name": "Python 3",
   "language": "python",
   "name": "python3"
  },
  "language_info": {
   "codemirror_mode": {
    "name": "ipython",
    "version": 3
   },
   "file_extension": ".py",
   "mimetype": "text/x-python",
   "name": "python",
   "nbconvert_exporter": "python",
   "pygments_lexer": "ipython3",
   "version": "3.8.1"
  }
 },
 "nbformat": 4,
 "nbformat_minor": 4
}
